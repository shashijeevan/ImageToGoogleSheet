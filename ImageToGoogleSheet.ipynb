{
 "cells": [
  {
   "cell_type": "code",
   "execution_count": 1,
   "id": "9b2d4160",
   "metadata": {},
   "outputs": [],
   "source": [
    "import os\n",
    "import datetime as dt\n",
    "import sys\n",
    "import json\n",
    "import traceback\n",
    "import logging\n",
    "import numpy as np\n",
    "from googleapiclient.discovery import build\n",
    "from google.oauth2  import service_account\n",
    "import httplib2\n",
    "import google_auth_httplib2\n",
    "from pprint import pprint\n",
    "from PIL import Image\n",
    "from ImageToJSON import RequestBuilder"
   ]
  },
  {
   "cell_type": "code",
   "execution_count": 2,
   "id": "248e887a",
   "metadata": {},
   "outputs": [],
   "source": [
    "imagepath = \"\"\n",
    "sheetName = \"\"\n",
    "sheetID = 0\n",
    "SQUAREWIDTH = 21\n",
    "SPREADSHEET_ID = '1KwBAK_ab6fhbt_Cq3RyOfHtGHICyFqhZC2dveGCpAKs'\n",
    "SERVICE_KEY = 'key.json'"
   ]
  },
  {
   "cell_type": "code",
   "execution_count": 3,
   "id": "52ed8066",
   "metadata": {},
   "outputs": [
    {
     "name": "stdout",
     "output_type": "stream",
     "text": [
      "Image loaded. Width =  200 , Height =  200\n",
      "Image mode = P\n",
      "Image mode is not RGB. Converting to RGB\n"
     ]
    }
   ],
   "source": [
    "imagepath = \"images\\monasmall.png\"\n",
    "\n",
    "inputimage = Image.open(imagepath)\n",
    "\n",
    "width, height  = inputimage.size\n",
    "print('Image loaded. Width = ', width, ', Height = ', height)\n",
    "\n",
    "#Checking if image mode is RGB and convert to RGB if required\n",
    "print(\"Image mode = \" + inputimage.mode)\n",
    "\n",
    "#print(inputimage.getbands())\n",
    "\n",
    "if inputimage.mode != \"RGB\":\n",
    "    print(\"Image mode is not RGB. Converting to RGB\")\n",
    "    inputimage = inputimage.convert(\"RGB\")\n",
    "\n",
    "#Loading image to the pixel data. This is an internal data structure of Pillow\n",
    "image_sequence = inputimage.getdata()\n",
    "\n",
    "#Sequence to np array for easy handling\n",
    "image_array = np.array(image_sequence)"
   ]
  },
  {
   "cell_type": "code",
   "execution_count": 4,
   "id": "8807ddf5",
   "metadata": {},
   "outputs": [],
   "source": [
    "SCOPES = ['https://www.googleapis.com/auth/spreadsheets']\n",
    "\n",
    "creds = None\n",
    "\n",
    "creds = service_account.Credentials.from_service_account_file(SERVICE_KEY, \n",
    "                                                              scopes=SCOPES)\n",
    "\n",
    "service = build('sheets', 'v4', credentials=creds)"
   ]
  },
  {
   "cell_type": "code",
   "execution_count": 5,
   "id": "1e8ad4c8",
   "metadata": {},
   "outputs": [
    {
     "name": "stdout",
     "output_type": "stream",
     "text": [
      "Sheet Name: Sep Tue 1695734834\n",
      "Adding new Sheet\n",
      "Added new Sheet\n"
     ]
    }
   ],
   "source": [
    "#Simple random sheet name generator\n",
    "#Month WeekdayName interger part of timestamp\n",
    "now = dt.datetime.now()\n",
    "sheetName = f\"{now:%b} {now:%a} {int(now.timestamp())}\" \n",
    "print(f\"Sheet Name: {sheetName}\")\n",
    "\n",
    "#Creating as new Sheet in the SpreadSheet. \n",
    "# Using the Image dimensions as the Sheet dimensions.\n",
    "requests = []\n",
    "\n",
    "requests.append(\n",
    "    {\n",
    "        \"addSheet\": {\n",
    "            \"properties\": {\n",
    "                \"title\": sheetName,\n",
    "                \"gridProperties\": {\n",
    "                    \"rowCount\": height,\n",
    "                    \"columnCount\": width\n",
    "                }\n",
    "            }\n",
    "        }\n",
    "    }            \n",
    ")\n",
    "\n",
    "body = {\n",
    "    'requests': requests\n",
    "}\n",
    "\n",
    "print(\"Adding new Sheet\")\n",
    "\n",
    "addsheetresponse = service.spreadsheets().batchUpdate(\n",
    "                            spreadsheetId=SPREADSHEET_ID, \n",
    "                            body=body).execute()\n",
    "print(\"Added new Sheet\")"
   ]
  },
  {
   "cell_type": "code",
   "execution_count": 6,
   "id": "52ab3c85",
   "metadata": {},
   "outputs": [
    {
     "name": "stdout",
     "output_type": "stream",
     "text": [
      "Setting square cells\n",
      "Setup of square cell is complete\n"
     ]
    }
   ],
   "source": [
    "#Changing the column width of all the Columns to make it square\n",
    "\n",
    "sheetID = addsheetresponse['replies'][0]['addSheet']['properties']['sheetId']\n",
    "\n",
    "requests = []\n",
    "\n",
    "requests.append({\n",
    "    'updateDimensionProperties': {\n",
    "        'range': {\n",
    "            'sheetId': sheetID,\n",
    "            'dimension': \"COLUMNS\",\n",
    "            'startIndex': 0,\n",
    "            'endIndex': width,\n",
    "        },\n",
    "        'properties': {\n",
    "            'pixelSize': SQUAREWIDTH\n",
    "        },\n",
    "        'fields': 'pixelSize'\n",
    "    }\n",
    "})\n",
    "\n",
    "body = {\n",
    "    'requests': requests\n",
    "}\n",
    "\n",
    "print(\"Setting square cells\")\n",
    "\n",
    "setwidthresponse = service.spreadsheets().batchUpdate(\n",
    "                            spreadsheetId=SPREADSHEET_ID, \n",
    "                            body=body).execute()\n",
    "\n",
    "#pprint(setwidthresponse)\n",
    "\n",
    "print(\"Setup of square cell is complete\")"
   ]
  },
  {
   "cell_type": "code",
   "execution_count": 7,
   "id": "1d07ece1",
   "metadata": {},
   "outputs": [
    {
     "name": "stdout",
     "output_type": "stream",
     "text": [
      "Building the request JSON from image pixel data\n",
      "Array dimension = {} (40000, 3)\n",
      "JSON generation completed\n"
     ]
    }
   ],
   "source": [
    "#Generating the JSON using the Image data\n",
    "\n",
    "print(\"Building the request JSON from image pixel data\")\n",
    "\n",
    "requestSON = RequestBuilder.ImageArrayToJSON(sheetID, image_array, \n",
    "                                             width, height)\n",
    "\n",
    "print(\"JSON generation completed\")\n",
    "#print(requestSON)\n",
    "\n",
    "logging.info(requestSON)\n",
    "\n",
    "#We need build JSON object from string as API takes JSON object\n",
    "request = json.loads(requestSON)"
   ]
  },
  {
   "cell_type": "code",
   "execution_count": 8,
   "id": "01094f61",
   "metadata": {},
   "outputs": [
    {
     "name": "stdout",
     "output_type": "stream",
     "text": [
      "Executing batch request\n",
      "Executed batch update\n"
     ]
    }
   ],
   "source": [
    "print(\"Executing batch request\")\n",
    "\n",
    "response = service.spreadsheets().batchUpdate(spreadsheetId=SPREADSHEET_ID,\n",
    "                                              body=request).execute()\n",
    "\n",
    "print(\"Executed batch update\")"
   ]
  },
  {
   "cell_type": "code",
   "execution_count": null,
   "id": "b2fa2ddb",
   "metadata": {},
   "outputs": [],
   "source": []
  }
 ],
 "metadata": {
  "kernelspec": {
   "display_name": "ImageToGoolgeSheet",
   "language": "python",
   "name": "imagetogsheetenv"
  },
  "language_info": {
   "codemirror_mode": {
    "name": "ipython",
    "version": 3
   },
   "file_extension": ".py",
   "mimetype": "text/x-python",
   "name": "python",
   "nbconvert_exporter": "python",
   "pygments_lexer": "ipython3",
   "version": "3.10.11"
  }
 },
 "nbformat": 4,
 "nbformat_minor": 5
}
